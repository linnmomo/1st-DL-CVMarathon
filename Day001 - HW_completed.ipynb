{
 "cells": [
  {
   "cell_type": "markdown",
   "metadata": {},
   "source": [
    "## [作業1]"
   ]
  },
  {
   "cell_type": "code",
   "execution_count": 9,
   "metadata": {},
   "outputs": [],
   "source": [
    "import pandas as pd\n",
    "import numpy as np\n",
    "from matplotlib import pyplot as plt\n",
    "%matplotlib inline"
   ]
  },
  {
   "cell_type": "code",
   "execution_count": 3,
   "metadata": {},
   "outputs": [
    {
     "data": {
      "text/plain": [
       "array([  0.,   1.,   2.,   3.,   4.,   5.,   6.,   7.,   8.,   9.,  10.,\n",
       "        11.,  12.,  13.,  14.,  15.,  16.,  17.,  18.,  19.,  20.,  21.,\n",
       "        22.,  23.,  24.,  25.,  26.,  27.,  28.,  29.,  30.,  31.,  32.,\n",
       "        33.,  34.,  35.,  36.,  37.,  38.,  39.,  40.,  41.,  42.,  43.,\n",
       "        44.,  45.,  46.,  47.,  48.,  49.,  50.,  51.,  52.,  53.,  54.,\n",
       "        55.,  56.,  57.,  58.,  59.,  60.,  61.,  62.,  63.,  64.,  65.,\n",
       "        66.,  67.,  68.,  69.,  70.,  71.,  72.,  73.,  74.,  75.,  76.,\n",
       "        77.,  78.,  79.,  80.,  81.,  82.,  83.,  84.,  85.,  86.,  87.,\n",
       "        88.,  89.,  90.,  91.,  92.,  93.,  94.,  95.,  96.,  97.,  98.,\n",
       "        99., 100.])"
      ]
     },
     "execution_count": 3,
     "metadata": {},
     "output_type": "execute_result"
    }
   ],
   "source": [
    "w = 3\n",
    "b = 0.5\n",
    "x_lin = np.linspace(0,100,101)\n",
    "x_lin"
   ]
  },
  {
   "cell_type": "code",
   "execution_count": 4,
   "metadata": {},
   "outputs": [
    {
     "data": {
      "text/plain": [
       "array([-7.89469893e-01, -6.43781222e-01, -1.30141901e-02, -1.75976391e-01,\n",
       "        2.89850317e-01,  1.44352457e+00,  9.81796241e-01, -2.70597429e-01,\n",
       "        6.02396162e-01,  4.89042058e-01, -1.07374217e+00,  1.26417956e+00,\n",
       "        1.50469902e+00,  8.67368923e-01,  6.83779249e-01, -2.95385569e-01,\n",
       "        1.20150209e+00, -1.02771871e+00,  1.21280732e+00, -7.60002716e-02,\n",
       "       -4.02129389e-01, -7.27186515e-01, -8.28206056e-01,  3.35783686e-01,\n",
       "        4.96397725e-01, -1.31130453e+00, -6.07738247e-01,  2.68800111e-01,\n",
       "       -7.94883575e-01,  4.05603406e-01,  1.48637390e+00,  8.37752038e-01,\n",
       "        1.03463506e-01, -2.19111691e+00, -3.46035731e-01,  1.15386895e+00,\n",
       "        1.29255370e+00, -1.49166168e+00, -1.40183491e+00,  2.70668423e-01,\n",
       "       -2.34837079e-01, -3.85490965e-01, -1.22816078e+00,  2.28426391e+00,\n",
       "        1.21784417e+00,  1.37411139e+00,  2.48482010e-01, -1.83210152e+00,\n",
       "       -1.81056938e-01,  3.54306373e-01,  1.42208574e+00,  9.39655473e-01,\n",
       "       -2.96946856e-01, -6.39726202e-01,  1.58170614e-01,  1.79907881e-01,\n",
       "        7.75082708e-01, -6.82495842e-01,  6.91555222e-02,  2.47970219e+00,\n",
       "       -5.02019023e-01,  4.79229885e-01, -7.22728873e-01,  5.34334711e-01,\n",
       "       -1.22946628e+00, -5.22602959e-01, -2.25510686e+00,  8.75420409e-02,\n",
       "        7.14782832e-01,  9.93743046e-01,  8.83011083e-01,  7.36926272e-01,\n",
       "       -1.06693161e+00, -3.68666080e-01, -6.32918091e-01, -1.29696710e+00,\n",
       "       -1.38610152e+00,  1.13955657e+00,  4.54459777e-01,  2.37628467e-03,\n",
       "       -6.13393377e-01, -1.32504471e+00, -9.15145946e-01, -6.01116227e-01,\n",
       "        1.20021349e+00,  1.21532675e+00,  8.39305008e-01, -2.63504006e-01,\n",
       "       -3.14584847e-01, -5.21033363e-01,  2.23662988e-01,  1.10000919e+00,\n",
       "       -1.29157248e-01, -1.13813555e+00,  1.89341713e-01, -1.21613594e-01,\n",
       "       -1.14970385e+00,  1.43633846e-01, -4.87813663e-01,  1.02004062e+00,\n",
       "        1.52439737e+00])"
      ]
     },
     "execution_count": 4,
     "metadata": {},
     "output_type": "execute_result"
    }
   ],
   "source": [
    "np.random.randn(101)"
   ]
  },
  {
   "cell_type": "code",
   "execution_count": 5,
   "metadata": {},
   "outputs": [
    {
     "data": {
      "text/plain": [
       "array([  8.27760235,   9.62158491,   4.90817704,  -3.22993879,\n",
       "        29.3726462 ,  15.7881754 ,  21.63024189,  44.28984971,\n",
       "        20.97179587,  30.5731265 ,  60.56563813,  32.85702458,\n",
       "        50.06597248,  15.04401623,  63.19346378,  37.23778888,\n",
       "        78.97178112,  62.17506653,  54.2343154 ,  62.63027443,\n",
       "        56.35409689,  80.80612226,  84.05571857,  83.54117594,\n",
       "        78.59983153,  87.57776835,  84.20166764,  75.24006315,\n",
       "       104.32639529,  79.22970382,  92.57912353, 105.03173244,\n",
       "        95.36939272, 110.56888854, 107.65407438, 112.18493077,\n",
       "       150.9103249 ,  86.0277156 , 103.15805808, 100.76512822,\n",
       "       153.98469073, 117.33362435, 127.6775513 , 132.61318487,\n",
       "       147.87089426, 119.03504881, 110.79805799, 155.52607779,\n",
       "       141.77341424, 144.45753116, 157.82191303, 159.20641625,\n",
       "       143.37285926, 147.44928466, 159.3696392 , 142.26691428,\n",
       "       166.11020077, 194.00999003, 147.36736967, 172.99447056,\n",
       "       201.68396761, 192.05500837, 173.34583302, 181.31166571,\n",
       "       175.09579809, 197.56740259, 196.22900515, 215.83483525,\n",
       "       185.75208924, 215.36198433, 212.31452136, 216.94246697,\n",
       "       218.6558709 , 177.676977  , 226.23190384, 239.3211259 ,\n",
       "       237.05121495, 243.52951886, 228.03575713, 245.6396812 ,\n",
       "       253.10910168, 244.28404669, 261.59134589, 238.70641594,\n",
       "       258.60375974, 259.42278842, 257.80527893, 261.85351701,\n",
       "       283.37318319, 264.68832586, 301.90602834, 269.2286503 ,\n",
       "       280.59833897, 278.83504588, 274.19163776, 289.12242098,\n",
       "       276.74483278, 296.81787013, 286.53177032, 322.99363476,\n",
       "       300.03301174])"
      ]
     },
     "execution_count": 5,
     "metadata": {},
     "output_type": "execute_result"
    }
   ],
   "source": [
    "y = (x_lin + np.random.randn(101) * 5) * w + b\n",
    "y"
   ]
  },
  {
   "cell_type": "code",
   "execution_count": 7,
   "metadata": {},
   "outputs": [
    {
     "data": {
      "text/plain": [
       "array([  0.5,   3.5,   6.5,   9.5,  12.5,  15.5,  18.5,  21.5,  24.5,\n",
       "        27.5,  30.5,  33.5,  36.5,  39.5,  42.5,  45.5,  48.5,  51.5,\n",
       "        54.5,  57.5,  60.5,  63.5,  66.5,  69.5,  72.5,  75.5,  78.5,\n",
       "        81.5,  84.5,  87.5,  90.5,  93.5,  96.5,  99.5, 102.5, 105.5,\n",
       "       108.5, 111.5, 114.5, 117.5, 120.5, 123.5, 126.5, 129.5, 132.5,\n",
       "       135.5, 138.5, 141.5, 144.5, 147.5, 150.5, 153.5, 156.5, 159.5,\n",
       "       162.5, 165.5, 168.5, 171.5, 174.5, 177.5, 180.5, 183.5, 186.5,\n",
       "       189.5, 192.5, 195.5, 198.5, 201.5, 204.5, 207.5, 210.5, 213.5,\n",
       "       216.5, 219.5, 222.5, 225.5, 228.5, 231.5, 234.5, 237.5, 240.5,\n",
       "       243.5, 246.5, 249.5, 252.5, 255.5, 258.5, 261.5, 264.5, 267.5,\n",
       "       270.5, 273.5, 276.5, 279.5, 282.5, 285.5, 288.5, 291.5, 294.5,\n",
       "       297.5, 300.5])"
      ]
     },
     "execution_count": 7,
     "metadata": {},
     "output_type": "execute_result"
    }
   ],
   "source": [
    "y_hat = x_lin * w + b"
   ]
  },
  {
   "cell_type": "code",
   "execution_count": 10,
   "metadata": {},
   "outputs": [
    {
     "data": {
      "text/plain": [
       "<function matplotlib.pyplot.show(*args, **kw)>"
      ]
     },
     "execution_count": 10,
     "metadata": {},
     "output_type": "execute_result"
    },
    {
     "data": {
      "image/png": "[encoded data removed]",
      "text/plain": [
       "<Figure size 432x288 with 1 Axes>"
      ]
     },
     "metadata": {
      "needs_background": "light"
     },
     "output_type": "display_data"
    }
   ],
   "source": [
    "plt.plot(x_lin, y, 'b.', label = 'data points')\n",
    "plt.plot(x_lin, y_hat, 'r-', label = 'prediction')\n",
    "plt.legend(loc=2)\n",
    "plt.show"
   ]
  },
  {
   "cell_type": "code",
   "execution_count": 11,
   "metadata": {},
   "outputs": [],
   "source": [
    "def mean_absolute_error(y, yp):\n",
    "    mae = MAE = sum(abs(y-yp))/len(y)\n",
    "    return mae"
   ]
  },
  {
   "cell_type": "code",
   "execution_count": 14,
   "metadata": {},
   "outputs": [
    {
     "name": "stdout",
     "output_type": "stream",
     "text": [
      "MAE is 10.916\n"
     ]
    }
   ],
   "source": [
    "MAE = mean_absolute_error(y, y_hat)\n",
    "print('MAE is %.3f' %(MAE))"
   ]
  },
  {
   "cell_type": "code",
   "execution_count": 17,
   "metadata": {},
   "outputs": [],
   "source": [
    "def mean_square_error(z, zp):\n",
    "    mse = MSE = sum((z-zp)**2)/len(z)\n",
    "    return mse"
   ]
  },
  {
   "cell_type": "code",
   "execution_count": 18,
   "metadata": {},
   "outputs": [
    {
     "name": "stdout",
     "output_type": "stream",
     "text": [
      "MSE is 206.495\n"
     ]
    }
   ],
   "source": [
    "MSE = mean_square_error(y, y_hat)\n",
    "print('MSE is %.3f' %(MSE))"
   ]
  },
  {
   "cell_type": "code",
   "execution_count": null,
   "metadata": {},
   "outputs": [],
   "source": []
  },
  {
   "cell_type": "markdown",
   "metadata": {},
   "source": [
    "## [作業2]\n",
    "請上 Kaggle, 在 Competitions 或 Dataset 中找一組競賽或資料並寫下：\n",
    "你選的這組資料為何重要\n",
    "資料從何而來 (tips: 譬如提供者是誰、以什麼方式蒐集)\n",
    "蒐集而來的資料型態為何\n",
    "這組資料想解決的問題如何評估"
   ]
  },
  {
   "cell_type": "markdown",
   "metadata": {},
   "source": [
    "### Ans"
   ]
  },
  {
   "cell_type": "markdown",
   "metadata": {},
   "source": [
    "1. https://raw.githubusercontent.com/nytimes/covid-19-data/master/us-counties.csv\n",
    "2. 重要性 ： 分析 COVID-19 的地緣性, 發生週期\n",
    "3. 資料提供者為 MyrnaMFL, datasource from New York Times GitHub\n",
    "4. Data format: csv file\n",
    "5. 評估 地緣, 發生週期"
   ]
  },
  {
   "cell_type": "markdown",
   "metadata": {},
   "source": [
    "## [作業3]"
   ]
  },
  {
   "cell_type": "markdown",
   "metadata": {},
   "source": [
    "想像你經營一個自由載客車隊，你希望能透過數據分析以提升業績，請你思考並描述你如何規劃整體的分析/解決方案：\n",
    "\n",
    "核心問題為何 (tips：如何定義 「提升業績 & 你的假設」)\n",
    "\n",
    "資料從何而來 (tips：哪些資料可能會對你想問的問題產生影響 & 資料如何蒐集)\n",
    "\n",
    "蒐集而來的資料型態為何\n",
    "\n",
    "你要回答的問題，其如何評估 (tips：你的假設如何驗證)"
   ]
  },
  {
   "cell_type": "markdown",
   "metadata": {},
   "source": [
    "### Ans"
   ]
  },
  {
   "cell_type": "markdown",
   "metadata": {},
   "source": [
    "1 核心問題：如何提升載客率？\n",
    "a. 主要客源\n",
    "b. 各條路線的營收狀況\n",
    "c. 價格競爭力\n",
    "d. 熱門與冷門時段\n",
    "e. 車型\n",
    "\n",
    "2. 資料來源：\n",
    "a. 出車紀錄\n",
    "b. 出車時間與路線\n",
    "c. 車型\n",
    "d. 客戶問卷\n",
    "e. 同業價格\n",
    "\n",
    "3. 資料型態\n",
    "a. 公司內部資料檔(Excel, csv..)\n",
    "b. 網路爬蟲所得公開資訊\n",
    "\n",
    "4. 經由數據分析以及machine learning 歸類出最有競爭力的營運組合"
   ]
  }
 ],
 "metadata": {
  "kernelspec": {
   "display_name": "Python 3",
   "language": "python",
   "name": "python3"
  },
  "language_info": {
   "codemirror_mode": {
    "name": "ipython",
    "version": 3
   },
   "file_extension": ".py",
   "mimetype": "text/x-python",
   "name": "python",
   "nbconvert_exporter": "python",
   "pygments_lexer": "ipython3",
   "version": "3.7.2"
  }
 },
 "nbformat": 4,
 "nbformat_minor": 2
}
